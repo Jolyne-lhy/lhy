{
 "cells": [
  {
   "cell_type": "markdown",
   "metadata": {
    "id": "etniX_KTlJ5U"
   },
   "source": [
    "# 1D-CAE Trainer"
   ]
  },
  {
   "cell_type": "markdown",
   "metadata": {
    "id": "N3jM0qLU8MgZ"
   },
   "source": [
    "## Environment"
   ]
  },
  {
   "cell_type": "code",
   "execution_count": 1,
   "metadata": {
    "id": "6u1DGKsAlLF-"
   },
   "outputs": [],
   "source": [
    "import numpy as np\n",
    "import pandas as pd\n",
    "import matplotlib.pyplot as plt\n",
    "import torch\n",
    "import torch.nn as nn\n",
    "from sklearn.preprocessing import StandardScaler\n",
    "\n",
    "from utils import *\n",
    "from cnn import *"
   ]
  },
  {
   "cell_type": "code",
   "execution_count": 2,
   "metadata": {
    "colab": {
     "base_uri": "https://localhost:8080/",
     "height": 34
    },
    "id": "4AzWlDBI_djV",
    "outputId": "7a8d0c19-2389-461b-c0be-3427a25dda91"
   },
   "outputs": [
    {
     "name": "stdout",
     "output_type": "stream",
     "text": [
      "GPU 0: NVIDIA GeForce RTX 3080 Ti (UUID: GPU-f3c6115e-46cd-6ccc-eedb-5f06a170552d)\r\n"
     ]
    }
   ],
   "source": [
    "!nvidia-smi -L\n",
    "\n",
    "device = get_default_device()"
   ]
  },
  {
   "cell_type": "markdown",
   "metadata": {
    "id": "1crx5rGP9ONf"
   },
   "source": [
    "## Data Pre-Processing"
   ]
  },
  {
   "cell_type": "markdown",
   "metadata": {},
   "source": [
    "### Read scada"
   ]
  },
  {
   "cell_type": "code",
   "execution_count": 3,
   "metadata": {},
   "outputs": [],
   "source": [
    "freq = '5min' # 5min"
   ]
  },
  {
   "cell_type": "code",
   "execution_count": 4,
   "metadata": {},
   "outputs": [
    {
     "name": "stdout",
     "output_type": "stream",
     "text": [
      "Directory 'model_savings' not exists，already created.\n"
     ]
    }
   ],
   "source": [
    "zone_name = 'zone7'\n",
    "save_path = 'model_savings'\n",
    "check_and_create_directory(save_path)"
   ]
  },
  {
   "cell_type": "code",
   "execution_count": 5,
   "metadata": {},
   "outputs": [],
   "source": [
    "data_path = './data/l-town-data/2019_SCADA_Pressures.csv'"
   ]
  },
  {
   "cell_type": "code",
   "execution_count": 6,
   "metadata": {},
   "outputs": [],
   "source": [
    "sensors_list = {\n",
    "\n",
    "'zone1' : ['n1','n4','n31'],\n",
    "\n",
    "'zone2' : ['n410','n429'],\n",
    "\n",
    "'zone3' : ['n342','n636','n644'],\n",
    "\n",
    "'zone4' : ['n296','n679','n722','n740'],\n",
    "\n",
    "'zone5' : ['n288','n726','n752','n769'],\n",
    "\n",
    "'zone6' : ['n215','n229'],\n",
    "\n",
    "'zone7' : ['n163','n188','n613'],\n",
    "\n",
    "'zone8' : ['n332','n495','n506','n549'],\n",
    "\n",
    "'zone9' : ['n105','n114','n469', 'n516'],\n",
    "\n",
    "'zone10' : ['n54','n415','n458', 'n519']\n",
    "    \n",
    "}"
   ]
  },
  {
   "cell_type": "code",
   "execution_count": 7,
   "metadata": {},
   "outputs": [],
   "source": [
    "zone_sensors = sensors_list[zone_name]"
   ]
  },
  {
   "cell_type": "code",
   "execution_count": 8,
   "metadata": {
    "colab": {
     "base_uri": "https://localhost:8080/",
     "height": 87
    },
    "id": "aN_TFp5x9uTE",
    "outputId": "38d7993d-c9a3-461d-c430-ebde697afbc6"
   },
   "outputs": [],
   "source": [
    "#Read data\n",
    "scada = pd.read_csv(data_path, sep=';', decimal=',', index_col='Timestamp')#, nrows=1000)\n",
    "scada.index = pd.date_range(start=scada.index[0], periods=len(scada), freq=freq)\n",
    "scada = scada.loc[:, zone_sensors]"
   ]
  },
  {
   "cell_type": "markdown",
   "metadata": {},
   "source": [
    "### Data proprocess"
   ]
  },
  {
   "cell_type": "code",
   "execution_count": 9,
   "metadata": {},
   "outputs": [],
   "source": [
    "start_time = pd.Timestamp('2019-01-01 00:00')\n",
    "split_time = pd.Timestamp('2019-01-15 00:00')"
   ]
  },
  {
   "cell_type": "code",
   "execution_count": 10,
   "metadata": {},
   "outputs": [],
   "source": [
    "train = scada[start_time:split_time]"
   ]
  },
  {
   "cell_type": "code",
   "execution_count": 11,
   "metadata": {},
   "outputs": [],
   "source": [
    "scaler = StandardScaler()\n",
    "x_scaled = scaler.fit_transform(train)\n",
    "train = pd.DataFrame(x_scaled)"
   ]
  },
  {
   "cell_type": "markdown",
   "metadata": {
    "id": "xXJi503b-j_d"
   },
   "source": [
    "### Sliding window"
   ]
  },
  {
   "cell_type": "code",
   "execution_count": 12,
   "metadata": {
    "id": "vyplttZa-BRN"
   },
   "outputs": [],
   "source": [
    "window_size=288\n",
    "step = 1"
   ]
  },
  {
   "cell_type": "code",
   "execution_count": 13,
   "metadata": {
    "colab": {
     "base_uri": "https://localhost:8080/",
     "height": 34
    },
    "id": "dzGJMp6Y-BN5",
    "outputId": "2949d278-1313-442c-f06b-275a8c6c6578"
   },
   "outputs": [
    {
     "data": {
      "text/plain": [
       "(3745, 3, 288)"
      ]
     },
     "execution_count": 13,
     "metadata": {},
     "output_type": "execute_result"
    }
   ],
   "source": [
    "windows_train=train.values[np.arange(window_size)[None, :] + np.arange(train.shape[0]-window_size)[::step, None]]\n",
    "windows_train = windows_train.swapaxes(1,2)\n",
    "windows_train.shape"
   ]
  },
  {
   "cell_type": "markdown",
   "metadata": {
    "id": "k70ZFxGs-_7m"
   },
   "source": [
    "## Training"
   ]
  },
  {
   "cell_type": "code",
   "execution_count": 14,
   "metadata": {},
   "outputs": [],
   "source": [
    "import torch.utils.data as data_utils\n",
    "\n",
    "BATCH_SIZE = 144\n",
    "N_EPOCHS = 100\n",
    "\n",
    "feature_size=windows_train.shape[1]\n",
    "seq_len=windows_train.shape[2]\n",
    "\n",
    "windows_train_train = windows_train[:int(np.floor(.8 *  windows_train.shape[0]))]\n",
    "windows_train_val = windows_train[int(np.floor(.8 *  windows_train.shape[0])):int(np.floor(windows_train.shape[0]))]\n",
    "\n",
    "train_loader = torch.utils.data.DataLoader(data_utils.TensorDataset(\n",
    "    torch.from_numpy(windows_train_train).float()\n",
    ") , batch_size=BATCH_SIZE, shuffle=True, num_workers=4)\n",
    "\n",
    "val_loader = torch.utils.data.DataLoader(data_utils.TensorDataset(\n",
    "    torch.from_numpy(windows_train_val).float()\n",
    ") , batch_size=BATCH_SIZE, shuffle=True, num_workers=4)\n",
    "\n",
    "model = CNN(feature_size, seq_len)\n",
    "model = to_device(model,device)"
   ]
  },
  {
   "cell_type": "code",
   "execution_count": 15,
   "metadata": {
    "colab": {
     "base_uri": "https://localhost:8080/",
     "height": 1000
    },
    "id": "So9yjDPEDObC",
    "outputId": "629bcd13-37b1-4907-ef0d-46d9e3ad5398",
    "scrolled": true
   },
   "outputs": [
    {
     "name": "stdout",
     "output_type": "stream",
     "text": [
      "Epoch [1], trn_loss: 0.1693, val_loss: 0.1534\n",
      "Epoch [2], trn_loss: 0.1062, val_loss: 0.1163\n",
      "Epoch [3], trn_loss: 0.0876, val_loss: 0.0882\n",
      "Epoch [4], trn_loss: 0.0735, val_loss: 0.0702\n",
      "Epoch [5], trn_loss: 0.0636, val_loss: 0.0586\n",
      "Epoch [6], trn_loss: 0.0573, val_loss: 0.0527\n",
      "Epoch [7], trn_loss: 0.0517, val_loss: 0.0475\n",
      "Epoch [8], trn_loss: 0.0473, val_loss: 0.0438\n",
      "Epoch [9], trn_loss: 0.0435, val_loss: 0.0403\n",
      "Epoch [10], trn_loss: 0.0408, val_loss: 0.0380\n",
      "Epoch [11], trn_loss: 0.0388, val_loss: 0.0360\n",
      "Epoch [12], trn_loss: 0.0373, val_loss: 0.0346\n",
      "Epoch [13], trn_loss: 0.0361, val_loss: 0.0337\n",
      "Epoch [14], trn_loss: 0.0352, val_loss: 0.0325\n",
      "Epoch [15], trn_loss: 0.0341, val_loss: 0.0315\n",
      "Epoch [16], trn_loss: 0.0334, val_loss: 0.0307\n",
      "Epoch [17], trn_loss: 0.0326, val_loss: 0.0300\n",
      "Epoch [18], trn_loss: 0.0318, val_loss: 0.0290\n",
      "Epoch [19], trn_loss: 0.0309, val_loss: 0.0285\n",
      "Epoch [20], trn_loss: 0.0301, val_loss: 0.0276\n",
      "Epoch [21], trn_loss: 0.0294, val_loss: 0.0269\n",
      "Epoch [22], trn_loss: 0.0290, val_loss: 0.0266\n",
      "Epoch [23], trn_loss: 0.0287, val_loss: 0.0263\n",
      "Epoch [24], trn_loss: 0.0285, val_loss: 0.0261\n",
      "Epoch [25], trn_loss: 0.0283, val_loss: 0.0260\n",
      "Epoch [26], trn_loss: 0.0282, val_loss: 0.0258\n",
      "Epoch [27], trn_loss: 0.0281, val_loss: 0.0256\n",
      "Epoch [28], trn_loss: 0.0279, val_loss: 0.0255\n",
      "Epoch [29], trn_loss: 0.0279, val_loss: 0.0255\n",
      "Epoch [30], trn_loss: 0.0276, val_loss: 0.0252\n",
      "Epoch [31], trn_loss: 0.0277, val_loss: 0.0254\n",
      "Epoch [32], trn_loss: 0.0276, val_loss: 0.0255\n",
      "Epoch [33], trn_loss: 0.0274, val_loss: 0.0251\n",
      "Epoch [34], trn_loss: 0.0271, val_loss: 0.0249\n",
      "Epoch [35], trn_loss: 0.0269, val_loss: 0.0247\n",
      "Epoch [36], trn_loss: 0.0267, val_loss: 0.0246\n",
      "Epoch [37], trn_loss: 0.0262, val_loss: 0.0240\n",
      "Epoch [38], trn_loss: 0.0262, val_loss: 0.0239\n",
      "Epoch [39], trn_loss: 0.0254, val_loss: 0.0234\n",
      "Epoch [40], trn_loss: 0.0249, val_loss: 0.0229\n",
      "Epoch [41], trn_loss: 0.0241, val_loss: 0.0222\n",
      "Epoch [42], trn_loss: 0.0236, val_loss: 0.0218\n",
      "Epoch [43], trn_loss: 0.0236, val_loss: 0.0217\n",
      "Epoch [44], trn_loss: 0.0229, val_loss: 0.0210\n",
      "Epoch [45], trn_loss: 0.0226, val_loss: 0.0209\n",
      "Epoch [46], trn_loss: 0.0224, val_loss: 0.0207\n",
      "Epoch [47], trn_loss: 0.0222, val_loss: 0.0206\n",
      "Epoch [48], trn_loss: 0.0221, val_loss: 0.0204\n",
      "Epoch [49], trn_loss: 0.0220, val_loss: 0.0203\n",
      "Epoch [50], trn_loss: 0.0218, val_loss: 0.0201\n",
      "Epoch [51], trn_loss: 0.0218, val_loss: 0.0201\n",
      "Epoch [52], trn_loss: 0.0216, val_loss: 0.0198\n",
      "Epoch [53], trn_loss: 0.0212, val_loss: 0.0195\n",
      "Epoch [54], trn_loss: 0.0213, val_loss: 0.0194\n",
      "Epoch [55], trn_loss: 0.0208, val_loss: 0.0189\n",
      "Epoch [56], trn_loss: 0.0206, val_loss: 0.0188\n",
      "Epoch [57], trn_loss: 0.0203, val_loss: 0.0187\n",
      "Epoch [58], trn_loss: 0.0200, val_loss: 0.0183\n",
      "Epoch [59], trn_loss: 0.0196, val_loss: 0.0181\n",
      "Epoch [60], trn_loss: 0.0192, val_loss: 0.0177\n",
      "Epoch [61], trn_loss: 0.0186, val_loss: 0.0172\n",
      "Epoch [62], trn_loss: 0.0181, val_loss: 0.0169\n",
      "Epoch [63], trn_loss: 0.0175, val_loss: 0.0165\n",
      "Epoch [64], trn_loss: 0.0168, val_loss: 0.0159\n",
      "Epoch [65], trn_loss: 0.0163, val_loss: 0.0154\n",
      "Epoch [66], trn_loss: 0.0158, val_loss: 0.0150\n",
      "Epoch [67], trn_loss: 0.0150, val_loss: 0.0144\n",
      "Epoch [68], trn_loss: 0.0145, val_loss: 0.0140\n",
      "Epoch [69], trn_loss: 0.0135, val_loss: 0.0133\n",
      "Epoch [70], trn_loss: 0.0127, val_loss: 0.0127\n",
      "Epoch [71], trn_loss: 0.0119, val_loss: 0.0120\n",
      "Epoch [72], trn_loss: 0.0115, val_loss: 0.0118\n",
      "Epoch [73], trn_loss: 0.0109, val_loss: 0.0113\n",
      "Epoch [74], trn_loss: 0.0098, val_loss: 0.0103\n",
      "Epoch [75], trn_loss: 0.0093, val_loss: 0.0099\n",
      "Epoch [76], trn_loss: 0.0090, val_loss: 0.0096\n",
      "Epoch [77], trn_loss: 0.0085, val_loss: 0.0093\n",
      "Epoch [78], trn_loss: 0.0081, val_loss: 0.0088\n",
      "Epoch [79], trn_loss: 0.0078, val_loss: 0.0086\n",
      "Epoch [80], trn_loss: 0.0079, val_loss: 0.0085\n",
      "Epoch [81], trn_loss: 0.0074, val_loss: 0.0084\n",
      "Epoch [82], trn_loss: 0.0079, val_loss: 0.0086\n",
      "Epoch [83], trn_loss: 0.0070, val_loss: 0.0080\n",
      "Epoch [84], trn_loss: 0.0070, val_loss: 0.0077\n",
      "Epoch [85], trn_loss: 0.0069, val_loss: 0.0077\n",
      "Epoch [86], trn_loss: 0.0064, val_loss: 0.0072\n",
      "Epoch [87], trn_loss: 0.0064, val_loss: 0.0072\n",
      "Epoch [88], trn_loss: 0.0065, val_loss: 0.0072\n",
      "Epoch [89], trn_loss: 0.0062, val_loss: 0.0069\n",
      "Epoch [90], trn_loss: 0.0060, val_loss: 0.0066\n",
      "Epoch [91], trn_loss: 0.0059, val_loss: 0.0066\n",
      "Epoch [92], trn_loss: 0.0057, val_loss: 0.0063\n",
      "Epoch [93], trn_loss: 0.0070, val_loss: 0.0077\n",
      "Epoch [94], trn_loss: 0.0058, val_loss: 0.0063\n",
      "Epoch [95], trn_loss: 0.0055, val_loss: 0.0061\n",
      "Epoch [96], trn_loss: 0.0054, val_loss: 0.0060\n",
      "Epoch [97], trn_loss: 0.0055, val_loss: 0.0060\n",
      "Epoch [98], trn_loss: 0.0054, val_loss: 0.0059\n",
      "Epoch [99], trn_loss: 0.0052, val_loss: 0.0056\n",
      "Epoch [100], trn_loss: 0.0052, val_loss: 0.0056\n"
     ]
    }
   ],
   "source": [
    "history = training(N_EPOCHS,model,train_loader,val_loader, f'./{save_path}/{zone_name}.pth')"
   ]
  },
  {
   "cell_type": "code",
   "execution_count": 16,
   "metadata": {
    "colab": {
     "base_uri": "https://localhost:8080/",
     "height": 295
    },
    "id": "fYwlN0JKVVtN",
    "outputId": "c742ff8b-3b4a-41f5-dd09-effee1be928a",
    "scrolled": true
   },
   "outputs": [
    {
     "data": {
      "image/png": "[encoded data removed]",
      "text/plain": [
       "<Figure size 432x288 with 1 Axes>"
      ]
     },
     "metadata": {
      "needs_background": "light"
     },
     "output_type": "display_data"
    }
   ],
   "source": [
    "plot_history_cnn(history, zone_name)"
   ]
  },
  {
   "cell_type": "code",
   "execution_count": null,
   "metadata": {},
   "outputs": [],
   "source": []
  }
 ],
 "metadata": {
  "accelerator": "GPU",
  "colab": {
   "name": "USAD_test.ipynb",
   "provenance": [],
   "toc_visible": true
  },
  "kernelspec": {
   "display_name": "Python 3 (ipykernel)",
   "language": "python",
   "name": "python3"
  },
  "language_info": {
   "codemirror_mode": {
    "name": "ipython",
    "version": 3
   },
   "file_extension": ".py",
   "mimetype": "text/x-python",
   "name": "python",
   "nbconvert_exporter": "python",
   "pygments_lexer": "ipython3",
   "version": "3.8.18"
  }
 },
 "nbformat": 4,
 "nbformat_minor": 1
}
