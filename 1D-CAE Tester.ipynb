{
 "cells": [
  {
   "cell_type": "markdown",
   "id": "0052a021",
   "metadata": {},
   "source": [
    "# 1D-CAE Tester"
   ]
  },
  {
   "cell_type": "markdown",
   "id": "da75f1d8",
   "metadata": {},
   "source": [
    "## Environment"
   ]
  },
  {
   "cell_type": "code",
   "execution_count": 1,
   "id": "9a9ef095",
   "metadata": {},
   "outputs": [],
   "source": [
    "import numpy as np\n",
    "import pandas as pd\n",
    "import matplotlib.pyplot as plt\n",
    "import torch\n",
    "import torch.nn as nn\n",
    "import torch.utils.data as data_utils\n",
    "from sklearn.preprocessing import StandardScaler\n",
    "\n",
    "from utils import *\n",
    "from cnn import *"
   ]
  },
  {
   "cell_type": "code",
   "execution_count": 2,
   "id": "a2841ffd",
   "metadata": {},
   "outputs": [
    {
     "name": "stdout",
     "output_type": "stream",
     "text": [
      "GPU 0: NVIDIA GeForce RTX 3080 Ti (UUID: GPU-f3c6115e-46cd-6ccc-eedb-5f06a170552d)\r\n"
     ]
    }
   ],
   "source": [
    "!nvidia-smi -L\n",
    "\n",
    "device = get_default_device()"
   ]
  },
  {
   "cell_type": "markdown",
   "id": "c5394a91",
   "metadata": {},
   "source": [
    "## Data Pre-Processing"
   ]
  },
  {
   "cell_type": "code",
   "execution_count": 3,
   "id": "8b4825e0",
   "metadata": {},
   "outputs": [],
   "source": [
    "freq = '5min' # 5min"
   ]
  },
  {
   "cell_type": "code",
   "execution_count": 4,
   "id": "44e9fbfb",
   "metadata": {},
   "outputs": [],
   "source": [
    "zone_name = 'zone7'\n",
    "model_path = './model_savings/'+zone_name+'.pth'"
   ]
  },
  {
   "cell_type": "code",
   "execution_count": 5,
   "id": "6ad6cb38",
   "metadata": {},
   "outputs": [],
   "source": [
    "data_path = './data/l-town-data/2019_SCADA_Pressures.csv'"
   ]
  },
  {
   "cell_type": "code",
   "execution_count": 6,
   "id": "0e4a4c0a",
   "metadata": {},
   "outputs": [],
   "source": [
    "sensors_list = {\n",
    "\n",
    "'zone1' : ['n1','n4','n31'],\n",
    "\n",
    "'zone2' : ['n410','n429'],\n",
    "\n",
    "'zone3' : ['n342','n636','n644'],\n",
    "\n",
    "'zone4' : ['n296','n679','n722','n740'],\n",
    "\n",
    "'zone5' : ['n288','n726','n752','n769'],\n",
    "\n",
    "'zone6' : ['n215','n229'],\n",
    "\n",
    "'zone7' : ['n163','n188','n613'],\n",
    "\n",
    "'zone8' : ['n332','n495','n506','n549'],\n",
    "\n",
    "'zone9' : ['n105','n114','n469', 'n516'],\n",
    "\n",
    "'zone10' : ['n54','n415','n458', 'n519']\n",
    "    \n",
    "}"
   ]
  },
  {
   "cell_type": "code",
   "execution_count": 7,
   "id": "b48e6afc",
   "metadata": {},
   "outputs": [],
   "source": [
    "zone_sensors = sensors_list[zone_name]"
   ]
  },
  {
   "cell_type": "code",
   "execution_count": 8,
   "id": "daf214a4",
   "metadata": {},
   "outputs": [],
   "source": [
    "#Read data\n",
    "scada = pd.read_csv(data_path, sep=';', decimal=',', index_col='Timestamp')#, nrows=1000)\n",
    "scada.index = pd.date_range(start=scada.index[0], periods=len(scada), freq=freq)\n",
    "scada = scada.loc[:, zone_sensors]"
   ]
  },
  {
   "cell_type": "markdown",
   "id": "fd60d901",
   "metadata": {},
   "source": [
    "### Data proprocess"
   ]
  },
  {
   "cell_type": "code",
   "execution_count": 9,
   "id": "d9815e9d",
   "metadata": {},
   "outputs": [],
   "source": [
    "start_time = pd.Timestamp('2019-01-01 00:00')\n",
    "split_time = pd.Timestamp('2019-01-15 00:00')"
   ]
  },
  {
   "cell_type": "code",
   "execution_count": 10,
   "id": "3cef944c",
   "metadata": {},
   "outputs": [],
   "source": [
    "train = scada[start_time:split_time]\n",
    "test = scada[split_time:]"
   ]
  },
  {
   "cell_type": "code",
   "execution_count": 11,
   "id": "b87ac5fe",
   "metadata": {},
   "outputs": [],
   "source": [
    "scaler = StandardScaler()\n",
    "scaler.fit(train)\n",
    "x_scaled = scaler.transform(test)\n",
    "test = pd.DataFrame(x_scaled)"
   ]
  },
  {
   "cell_type": "markdown",
   "id": "f0dc70b6",
   "metadata": {},
   "source": [
    "### Sliding window"
   ]
  },
  {
   "cell_type": "code",
   "execution_count": 12,
   "id": "9aaedef4",
   "metadata": {},
   "outputs": [],
   "source": [
    "window_size=288\n",
    "step = 1"
   ]
  },
  {
   "cell_type": "code",
   "execution_count": 13,
   "id": "d1ac59cf",
   "metadata": {},
   "outputs": [
    {
     "data": {
      "text/plain": [
       "(100800, 3, 288)"
      ]
     },
     "execution_count": 13,
     "metadata": {},
     "output_type": "execute_result"
    }
   ],
   "source": [
    "windows_test=test.values[np.arange(window_size)[None, :] + np.arange(test.shape[0]-window_size)[::step, None]]\n",
    "windows_test = windows_test.swapaxes(1,2)\n",
    "windows_test.shape"
   ]
  },
  {
   "cell_type": "markdown",
   "id": "e2cfbc08",
   "metadata": {},
   "source": [
    "## Read model"
   ]
  },
  {
   "cell_type": "code",
   "execution_count": 14,
   "id": "48cc72aa",
   "metadata": {},
   "outputs": [],
   "source": [
    "feature_size=windows_test.shape[1]\n",
    "seq_len=windows_test.shape[2]\n",
    "BATCH_SIZE = 144"
   ]
  },
  {
   "cell_type": "code",
   "execution_count": 15,
   "id": "8f9787dd",
   "metadata": {},
   "outputs": [
    {
     "data": {
      "text/plain": [
       "<All keys matched successfully>"
      ]
     },
     "execution_count": 15,
     "metadata": {},
     "output_type": "execute_result"
    }
   ],
   "source": [
    "model = CNN(feature_size, seq_len)\n",
    "model = to_device(model,device)\n",
    "\n",
    "checkpoint = torch.load(model_path)\n",
    "\n",
    "model.encoder.load_state_dict(checkpoint['encoder'])\n",
    "model.decoder.load_state_dict(checkpoint['decoder'])"
   ]
  },
  {
   "cell_type": "markdown",
   "id": "c0c4eaec",
   "metadata": {},
   "source": [
    "## Testing"
   ]
  },
  {
   "cell_type": "code",
   "execution_count": 16,
   "id": "f8b618c6",
   "metadata": {},
   "outputs": [],
   "source": [
    "len_test = windows_test.shape[0]\n",
    "\n",
    "test_loader = torch.utils.data.DataLoader(data_utils.TensorDataset(\n",
    "                torch.from_numpy(windows_test).float()\n",
    "                ) , batch_size=BATCH_SIZE, shuffle=False, num_workers=4)\n",
    "    \n",
    "results, _, _=testing(model,test_loader)\n",
    "test_err=torch.cat(results, dim=0).detach().cpu().numpy()"
   ]
  },
  {
   "cell_type": "code",
   "execution_count": 17,
   "id": "c4e68a4a",
   "metadata": {},
   "outputs": [],
   "source": [
    "offset = pd.DateOffset(minutes=5*window_size)\n",
    "\n",
    "start_date = start_time + offset\n",
    "\n",
    "res = pd.DataFrame(test_err, columns=sensors_list[zone_name])\n",
    "res.index = pd.date_range(start=start_date,periods=len(res),freq=freq)"
   ]
  },
  {
   "cell_type": "code",
   "execution_count": 18,
   "id": "ee94dbf8",
   "metadata": {},
   "outputs": [
    {
     "data": {
      "image/png": "[encoded data removed]",
      "text/plain": [
       "<Figure size 1152x288 with 1 Axes>"
      ]
     },
     "metadata": {
      "needs_background": "light"
     },
     "output_type": "display_data"
    }
   ],
   "source": [
    "fig, ax = plt.subplots(figsize=(16,4))\n",
    "\n",
    "for i in res.keys():\n",
    "    res[i].plot(label = i)\n",
    "\n",
    "plt.legend(prop={'size': 12})\n",
    "plt.title(f'Reconstruction Error of {zone_name}')\n",
    "plt.show()"
   ]
  },
  {
   "cell_type": "code",
   "execution_count": 19,
   "id": "ef19e864",
   "metadata": {},
   "outputs": [
    {
     "name": "stdout",
     "output_type": "stream",
     "text": [
      "Directory 'reconstruct_error' already created.\n"
     ]
    }
   ],
   "source": [
    "save_path = 'reconstruct_error'\n",
    "check_and_create_directory(save_path)"
   ]
  },
  {
   "cell_type": "code",
   "execution_count": 20,
   "id": "3349fbc4",
   "metadata": {},
   "outputs": [],
   "source": [
    "# Save reconstruction error of zone\n",
    "res.to_csv(f'./{save_path}/{zone_name}.csv')"
   ]
  },
  {
   "cell_type": "code",
   "execution_count": null,
   "id": "051286bf",
   "metadata": {},
   "outputs": [],
   "source": []
  }
 ],
 "metadata": {
  "kernelspec": {
   "display_name": "Python 3 (ipykernel)",
   "language": "python",
   "name": "python3"
  },
  "language_info": {
   "codemirror_mode": {
    "name": "ipython",
    "version": 3
   },
   "file_extension": ".py",
   "mimetype": "text/x-python",
   "name": "python",
   "nbconvert_exporter": "python",
   "pygments_lexer": "ipython3",
   "version": "3.8.18"
  }
 },
 "nbformat": 4,
 "nbformat_minor": 5
}
